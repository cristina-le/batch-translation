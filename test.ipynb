{
 "cells": [
  {
   "cell_type": "code",
   "execution_count": 79,
   "id": "5888abeb",
   "metadata": {},
   "outputs": [],
   "source": [
    "from openai import OpenAI\n",
    "from typing import List, Optional, Dict\n",
    "import os\n",
    "import json\n",
    "import hashlib\n",
    "from datetime import datetime\n",
    "from openai import OpenAI\n",
    "from pydantic import BaseModel\n",
    "\n",
    "class Characters(BaseModel):\n",
    "    character_name: List[str]\n",
    "\n",
    "class SpeakerTagging(BaseModel):\n",
    "    tagged_lines: List[str]\n",
    "\n",
    "OPENROUTER_API_KEY=\"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\"\n",
    "client = OpenAI(base_url=\"https://openrouter.ai/api/v1\", api_key=OPENROUTER_API_KEY)\n",
    "\n",
    "with open(\"app/data/batch_jp.txt\", 'r', encoding=\"utf-8\") as file:\n",
    "    full_text = file.read()"
   ]
  },
  {
   "cell_type": "code",
   "execution_count": 80,
   "id": "4899cc35",
   "metadata": {},
   "outputs": [],
   "source": [
    "prompt = (\n",
    "    \"Analyze this Japanese text and identify ALL characters.\"\n",
    "    \"\\nFor each character, determine the character name and gender.\"\n",
    "    \"\\nReturn character profiles in JSON format.\"\n",
    "    f\"\\nText: {full_text}\"\n",
    ")\n",
    "\n",
    "response = client.beta.chat.completions.parse(\n",
    "    model=\"google/gemini-2.0-flash-001\",\n",
    "    temperature=0.1,\n",
    "    messages=[\n",
    "        {\"role\": \"system\", \"content\": \"You are an expert at analyzing Japanese characters.\"},\n",
    "        {\"role\": \"user\", \"content\": prompt}\n",
    "    ],\n",
    "    response_format=Characters,\n",
    ")\n"
   ]
  },
  {
   "cell_type": "code",
   "execution_count": 81,
   "id": "7ab87cec",
   "metadata": {},
   "outputs": [],
   "source": [
    "output = response.choices[0].message.parsed.character_name"
   ]
  },
  {
   "cell_type": "code",
   "execution_count": 82,
   "id": "3b3215ee",
   "metadata": {},
   "outputs": [],
   "source": [
    "def llm_tag_speakers(text: str, profiles: Dict) -> str:\n",
    "    \"\"\"Use LLM to tag speakers based on profiles.\"\"\"\n",
    "    try:\n",
    "        prompt = f\"\"\"\n",
    "        Tag speakers for each line in this Japanese text using the character profiles.\n",
    "        \n",
    "        CHARACTER PROFILES:\n",
    "        {json.dumps(profiles, indent=2, ensure_ascii=False)}\n",
    "        \n",
    "        TEXT TO TAG:\n",
    "        {text}\n",
    "        \n",
    "        Tag each line with [Speaker]: or [Narration]: format.\n",
    "        Use character names from profiles.\n",
    "        \"\"\"\n",
    "        \n",
    "        response = client.beta.chat.completions.parse(\n",
    "            model=\"google/gemini-2.0-flash-001\",\n",
    "            temperature=0.1,\n",
    "            messages=[\n",
    "                {\"role\": \"system\", \"content\": \"You are an expert at identifying speakers in Japanese visual novel text.\"},\n",
    "                {\"role\": \"user\", \"content\": prompt}\n",
    "            ],\n",
    "            response_format=SpeakerTagging,\n",
    "        )\n",
    "        \n",
    "        result = json.loads(response.choices[0].message.content)\n",
    "        print(result)\n",
    "        tagged_lines = []\n",
    "        \n",
    "        for line_data in result[\"tagged_lines\"]:\n",
    "            line = line_data[\"line\"]\n",
    "            speaker = line_data.get(\"speaker\", \"Narration\")\n",
    "            tagged_lines.append(f\"[{speaker}]: {line}\")\n",
    "        \n",
    "        return \"\\n\".join(tagged_lines)\n",
    "    \n",
    "    except Exception as e:\n",
    "            print(f\"Error in speaker tagging: {e}\")\n",
    "            # Simple fallback\n",
    "            lines = text.splitlines()\n",
    "            tagged_lines = []\n",
    "            for line in lines:\n",
    "                if line.strip().startswith('「'):\n",
    "                    tagged_lines.append(f\"[Speaker]: {line}\")\n",
    "                else:\n",
    "                    tagged_lines.append(f\"[Narration]: {line}\")\n",
    "            return \"\\n\".join(tagged_lines)"
   ]
  },
  {
   "cell_type": "code",
   "execution_count": 83,
   "id": "6679309c",
   "metadata": {},
   "outputs": [
    {
     "name": "stdout",
     "output_type": "stream",
     "text": [
      "Error in speaker tagging: Could not parse response content as the length limit was reached - CompletionUsage(completion_tokens=8028, prompt_tokens=7069, total_tokens=15097, completion_tokens_details=None, prompt_tokens_details=None)\n"
     ]
    },
    {
     "data": {
      "text/plain": [
       "'[Narration]: ──空気が動いた。\\n[Narration]: それまでボクを包み込んでいた青白い光が遠のいていく。\\n[Narration]: やがて見えたのは、薄汚れた天井だ。\\n[Narration]: その場所に向けて伸ばしている右腕は、同じく伸ばしている左腕とは少し異なっていた。\\n[Narration]: ボクの右腕は、手首から先が剥き出しの機械部品でできている。\\n[Narration]: 指は滑らかに動くけれど、そのたびに、こすれる金属音が小さく鳴り響く。\\n[Narration]: 続いて、ゆっくりと上半身を起こした。\\n[Narration]: それでさっきまで視界に映っていた青白い光の正体が、緩やかなカーブを描いた楕円形の蓋であることがわかる。\\n[Narration]: どうやらボクはこのカプセル状の何かの中で眠りについていたようだ。\\n[Narration]: ここはどこだろう。\\n[Narration]: ボクは誰だろう。\\n[Narration]: なぜボクはここにいるんだろう。\\n[Narration]: 自問しても答えは見つからない。\\n[Narration]: 記憶をさかのぼろうとしても、あるのは青白い光の記憶だけだ。\\n[Narration]: ボクは記憶の手がかりを探すため、カプセルから降りて、部屋の中を練り歩くことにした。\\n[Narration]: 歩くという行為は知っていても、その行為自体は久しいのか、足下がおぼつかない。\\n[Narration]: 倒れてしまわぬように注意を払いながら、ゆっくりと歩みを進めていく。\\n[Narration]: 漂う空気は生ぬるく、空気を肺に取り込む度に喉に埃がまとわりついた。\\n[Narration]: 天井に開いた穴からは外の光が差し込んでいて、その筋に沿って、空気中の埃が露わになっている。\\n[Narration]: おそらくずいぶんの間、この建物に人が入っていないのだろう。\\n[Narration]: 足下には、薄い埃が広がっている。\\n[Narration]: ここは何をする場所なのだろう。\\n[Narration]: 広い部屋には無数の楕円形のカプセルが点在していた。\\n[Narration]: その大半は開いている。\\n[Narration]: 中身は空だ。\\n[Narration]: たまに閉じているものがあっても、中には何も入っていなかった。\\n[Narration]: どうやらこの部屋にいるのはボクだけのようだ。\\n[Narration]: ――いや、正確に言うとそうではない。\\n[Narration]: 楕円形の物体にもたれかかっていたり、床に転がったりして存在している人がいる。\\n[Narration]: でも、違う。\\n[Narration]: あれは正確に言えば人ではない。\\n[Narration]: 人型の物体、と言った方が正しいだろう。\\n[Narration]: その人型の物体は、皮膚の下に機械部品を覗かせていた。\\n[Narration]: 首から上が機械部品のもの。\\n[Narration]: 機械の腕が剥き出しのもの。\\n[Narration]: 下半身がちぎれて、機械部分が見えているもの。\\n[Narration]: それでボクは、その人型の物体が何かを思い出した。\\n[Narration]: ニンゲンのために作られた、ニンゲンのパートナー。\\n[Narration]: 五感はもちろん、感情も搭載した、もっともニンゲンに近い存在だ。\\n[Narration]: ボクは活動を停止しているフィロイドに手を伸ばす。\\n[Narration]: 皮膚で覆われていない部品剥き出しの手は、ボクの右手と酷似していた。\\n[Narration]: ここは、工場だ。\\n[Narration]: ボクはここで造られたんだ。\\n[Narration]: ……ただ完成間近に、何らかの理由で施設が廃棄されたのだろう。\\n[Narration]: 人工皮膚で覆われる前の、機械の右手を見つめながら、もっとも高いだろう可能性に結論づける。\\n[Narration]: 自分自身の存在を理解したボクは、壁際に向かって歩き出した。\\n[Narration]: そこには古びた自動扉があり、すぐ隣には《ＣＬＯＳＥ》と表示された液晶パネルが埃をかぶっている。\\n[Narration]: 機械の手で触れてみた。\\n[Narration]: 血の通っていない指先に、電気のような冷たいものを感じた途端《ＯＰＥＮ》と表示されて扉が開いた。\\n[Narration]: ここから外に出られるのだろうか。\\n[Narration]: 誰か、この施設に残っているのだろうか。\\n[Narration]: ボクは会いたかった。\\n[Narration]: ニンゲンに会いたかった。\\n[Narration]: 探しにいこう、ボクのパートナーを。\\n[Narration]: ボクは外へと通じる扉を押し開けた。\\n[Narration]: 自分自身の存在を、証明するために。\\n[Narration]: 家に戻ると、真っ先にリビングへ向かった。\\n[Narration]: そこには壊れたままのオルゴールがある。\\n[Narration]: 図書館から借りてきた本を紐解き、その構造を学んでいく。\\n[Narration]: 思った通り、中の歯車がかけていた。\\n[Narration]: だからいくらハンドルを回しても、ディスクが回らず音が流れないのだ。\\n[Narration]: ……でも、この歯車はどうしよう？\\n[Narration]: 本に記されている通りの大きさに合わせて作る事は可能だろうか？\\u3000いや、無理だ。\\n[Narration]: 答えが出ないまま、本のページを進めていく。\\n[Narration]: 巻末には、メーカーごとの製品の一覧と、使用部品の一覧が載っていた。\\n[Narration]: ざっと目を通していると、ある所に視線が引っかかった。\\n[Narration]: そこでわかったことは、このオルゴールを作っているメーカーは、時計を作っていたということだ。\\n[Narration]: だとすると、精密な部分のパーツは時計と同じものを使っているかもしれない。\\n[Narration]: 不意に、マッドさんの店でボクが壊してしまったものを思い出す。\\n[Narration]: あの時計……もし、使い物にならないで捨てるのであれば……。\\n[Narration]: 時計の中の歯車などの部品を使えば、オルゴールを直せるかもしれない。\\n[Speaker]: 「レイ、何をしてるの？」\\n[Narration]: 修理の可能性が見えると同時に、シオナがリビングへ入ってくる。\\n[Speaker]: 「シオナ、聞いて。マッドさんの店に置いてあった時計の部品で、オルゴールが直るかもしれない」\\n[Speaker]: 「そうなの？\\u3000本当に？」\\n[Narration]: シオナはいつも以上にうれしそうな笑みを浮かべていた。\\n[Narration]: その表情から、シオナの喜びを知ることができる。\\n[Speaker]: 「でも、無理はしないでね。オルゴールはなくても、歌うことはできるから」\\n[Narration]: シオナはオルゴールを手にして、歌い始めた。\\n[Narration]: 礼拝堂で歌っていた、あの歌を。\\n[Narration]: どこか懐かしい、あの歌を。\\n[Narration]: 胸の奥が温まるような、あの歌を。\\n[Narration]: オルゴールを愛おしげに見つめるシオナに、ボクの決意はより強くなる。\\n[Narration]: このオルゴールを直してあげたい。\\n[Narration]: そして、シオナに喜んでもらいたい。\\n[Narration]: その思いが、ボクの中で膨らんでいく。\\n[Speaker]: 「明日、もう一度マッドさんの店に行ってくるよ」\\n[Narration]: なんとか時計を譲ってもらえないか頼んでみよう。\\n[Narration]: だけど一つだけ気がかりなことがあった。\\n[Narration]: それは、その時計をボクが壊してしまったということだ。\\n[Narration]: 謝りはしたけれど、それでもどこか行きにくい。\\n[Narration]: またマッドさんに怒鳴られるかと思うと、恐ろしくもなる。\\n[Speaker]: 「私ね、お兄ちゃんのこの歌で色んな人を笑顔にしたいの」\\n[Narration]: 躊躇っているボクに、シオナの言葉が届いた。\\n[Speaker]: 「この歌はオレンジ色で……きっと、色んな人の心をオレンジ色にできるの。そうなって欲しい、って願われて作られた歌だから。それがお兄ちゃんの願いだから。だから私ね、この歌を多くの人に聴いて欲しい。そして、多くの人を笑顔にしたい。それが私の願いなの」\\n[Narration]: 独り言のようにシオナが言った。\\n[Narration]: その言葉が、ボクの後押しになる。\\n[Narration]: 明日もう一度、マッドさんの店に行こう。\\n[Narration]: そして、時計を壊してしまったことをもう一度謝ろう。\\n[Narration]: シオナの歌声とオルゴールに、ボクは決意を固めた。\\n[Narration]: 翌日、ボクは一人でマッドさんの店を訪れた。\\n[Narration]: 途中で何度引き返そうと思ったか数えられない。\\n[Narration]: そう思うたびに過ぎるのは、シオナのあの笑顔だった。\\n[Narration]: あの笑顔をずっと見ていたい。\\n[Narration]: そのためにオルゴールを直してあげたい。\\n[Narration]: 昨日の決意をボクは何度も思い返した。\\n[Narration]: シオナのためにボクができること。\\n[Narration]: ボクは意を決して、マッドさんの店に足を踏み入れた。\\n[Speaker]: 「おまえ、どの面下げてやってきた」\\n[Narration]: 直後、遠雷のように低いマッドさんの声が降り注いだ。\\n[Narration]: すぐに逃げ出したくなるけれど、ボクはそうしなかった。\\n[Speaker]: 「昨日のこと、もっとしっかり謝りたくて」\\n[Speaker]: 「時計のことか？\\u3000あれは、もう謝っただろう」\\n[Speaker]: 「あの時はシオナが居たから……ちゃんと、ボク一人で謝ろうと思って」\\n[Speaker]: 「そんなもんいらねぇ。とっとと帰れ」\\n[Speaker]: 「そうはいきません。昨日、時計を壊してしまって本当にごめんなさい」\\n[Speaker]: 「いくら謝っても時計は壊れたままだ、帰れ」\\n[Speaker]: 「ごめんなさい。本当にごめんなさい」\\n[Narration]: 頭を下げたまま、ボクは謝り続けた。\\n[Narration]: どれだけ時間が経ったのだろうか。\\n[Narration]: やがてマッドさんの、少しだけ柔らかい声が届く。\\n[Speaker]: 「……顔、上げろ」\\n[Narration]: 言われた通りにすると、どこか呆れたようなマッドさんの顔がそこにはあった。\\n[Speaker]: 「ったく……なんて野郎だ。しつこいこと、この上ねぇな」\\n[Speaker]: 「ごめんなさい……」\\n[Speaker]: 「もう謝るな、ぶっとばすぞっ」\\n[Narration]: 口ではそう言うが、そこには昨日ほどの怒りはないようだ。\\n[Narration]: 小さくため息をつく音が聞こえた気がした。\\n[Speaker]: 「もう用は済んだんだろ？\\u3000とっとと帰れ」\\n[Speaker]: 「あの……一つだけ、頼みがあって」\\n[Speaker]: 「頼みだ？\\u3000俺に頼みなんて、いい度胸をしているな」\\n[Narration]: 威圧感に足がすくむが、シオナの言葉が背中を押してくれる。\\n[Speaker]: 「あの時計……ボクに譲ってくれませんか？」\\n[Speaker]: 「……もう一度、言ってみろ」\\n[Speaker]: 「あの……昨日の時計、ボクに譲って――」\\n[Speaker]: 「ふざけるなぁあああああああああっ！！」\\n[Narration]: 雷が直撃したかのような衝撃に、ボクは直立不動で固まってしまった。\\n[Speaker]: 「自分で壊しておいて譲れだぁ？\\u3000調子に乗るなよ！」\\n[Narration]: もうダメだ……。\\n[Narration]: もう、これ以上は……。\\n[Narration]: 逃げだそうとすると、背中から声が通った。\\n[Speaker]: 「待ってください、マッドさん。レイは私の兄のオルゴールを直したいだけなんです」\\n[Narration]: そこには、家で待っているはずのシオナがいた。\\n[Narration]: シオナはマッドさんに臆することなく、ボクとの間に入ってくる。\\n[Speaker]: 「兄のオルゴールが壊れてしまっていて、レイは私のためにそれを直してくれるって。そのために部品が欲しいだけなんです。昨日、時計を壊してしまったことも、本当に反省しています。だから、許してあげてくれませんか？」\\n[Narration]: シオナは笑みを絶やさず、マッドさんに伝えてくれた。\\n[Speaker]: 「ん……んんー……」\\n[Narration]: 顔を真っ赤にしていたマッドさんだが、その表情が少しずつ和らいでいく。\\n[Speaker]: 「だがな、もうあの時計はないぞ。あんなもん捨てちまったからな。ただ……」\\n[Narration]: マッドさんはボクたちに背中を向けるが、口を動かし続けた。\\n[Speaker]: 「町外れにある廃工場、あそこに捨てちまった。その後は知らん」\\n[Narration]: それだけ言うと、マッドさんは壁を向いたまま座り込んだ。\\n[Speaker]: 「マッドさん、ありがとうございます」\\n[Narration]: シオナは笑みを絶やすことなく一礼して店を出た。\\n[Speaker]: 「あ、ありがとうございます……」\\n[Narration]: ボクも同じように一礼して店を出る。\\n[Speaker]: 「廃工場って言うのは、レイが倒れていた場所のすぐ近くだよ」\\n[Narration]: 店を出るとすぐに、シオナは教えてくれた。\\n[Speaker]: 「あの、シオナがゴミを捨てに行ってるっていう？」\\n[Speaker]: 「そうよ。あそこには、色んな場所からゴミが集まってるの」\\n[Speaker]: 「もしかして、そこから拾ってきたものを直してここで売ってるの？」\\n[Speaker]: 「そうね。マッドさんはよく、あの場所に行っているし」\\n[Narration]: なるほど、だから店には古びたものが多くあったんだ。\\n[Narration]: その場所から使えそうなものを持ってきて、再利用しているのだろう。\\n[Narration]: とにかく、ボクはその廃工場に向かうことに決めた。\\n[Speaker]: 「シオナ、良かったらその場所まで案内をして欲しいんだけど」\\n[Speaker]: 「ごめんなさい、今日は赤い子どもたちが家に来ることになっているの」\\n[Narration]: 昨日シオナに話しかけていた、あの子たちのことだろう。\\n[Narration]: そういえば、スープをごちそうする約束をしていた。\\n[Speaker]: 「でもレイ、一人じゃいけないよね。子どもたちとの約束、断ってくるね」\\n[Speaker]: 「ううん、いいんだシオナ。約束は守ってあげて」\\n[Speaker]: 「でも、どうやってそこまで行くの？」\\n[Speaker]: 「図書館に行ってみるよ。この周辺の事も知りたいし、地図を見てみたい」\\n[Speaker]: 「図書館……」\\n[Narration]: シオナの表情が少し曇ったように見える。\\n[Speaker]: 「えっ……ううん、なんでもない。……ねぇレイ。ティピィちゃんはレイになついてる？」\\n[Speaker]: 「どうかな。嫌われてはいないと思うけど、どうして？」\\n[Speaker]: 「ううん、なんでもない。図書館ならきっと、地図があるよ。いってらっしゃい」\\n[Speaker]: 「うん、そうする。それじゃ、また後で」\\n[Narration]: 踵を返して図書館へ向かおうとする。\\n[Narration]: その時見えたシオナの笑顔は、どこか悲しみをはらんでいるようにボクは思えた。\\n[Narration]: でも、その理由がボクにはわからない。\\n[Speaker]: 「レイ、きてくれたの」\\n[Narration]: ティピィは昨日と同じ場所で、同じように涙を流していた。\\n[Speaker]: 「うん、来たよ。ねぇティピィ、一つ聞いても良い？」\\n[Speaker]: 「この図書館に、町の地図はあるかな」\\n[Speaker]: 「うん、あるよ。たくさんある」\\n[Speaker]: 「それは良かった。地図の場所まで案内してくれる？」\\n[Speaker]: 「いいけど……けど……」\\n[Narration]: ティピィはどこか歯切れが悪い。\\n[Speaker]: 「ううん、そうじゃない……そうじゃない、けど……」\\n[Speaker]: 「だっこ、してくれる？」\\n[Narration]: ティピィは顔を少し赤くした。\\n[Narration]: 悲しそうな表情はかわらないけれど、少しだけ頬が和らいでいるように見える。\\n[Speaker]: 「……だっこ？\\u3000だっこって、昨日したやつ？」\\n[Speaker]: 「うん……だめ？」\\n[Speaker]: 「ダメじゃないよ。ほら、おいで」\\n[Speaker]: 「うん……うん……」\\n[Narration]: ボクが手を広げると、ティピィは立ち上がり、どこか躊躇うように胸に飛び込んできた。\\n[Narration]: 昨日とは違って、彼女を抱える形になる。\\n[Narration]: ただ、思うことは同じだ。\\n[Narration]: 抱きしめたティピィはやはり小さくて、柔らかくて、壊れてしまいそうだった。\\n[Speaker]: 「ティピィ、これでいいの？」\\n[Speaker]: 「うん、いい。レイ……あったかい」\\n[Narration]: ティピィがボクの胸に頬ずりをしてくる。\\n[Narration]: その仕草にボクの胸の奥が温かくなった。\\n[Narration]: もしかしてこれが愛おしいという感情なんだろうか？\\n[Narration]: この少女を守ってあげたい。\\n[Narration]: この涙を止めてあげたい。\\n[Narration]: しばらくボクは、ティピィを抱きしめていた。\\n[Speaker]: 「あのね、このままあっちにあるいて」\\n[Narration]: ティピィはボクの胸の中で、指先を通路に向けた。\\n[Narration]: 抱え上げたまま、ボクはその指先で示された方向へ向かっていく。\\n[Speaker]: 「どうして、ちずがいるの？」\\n[Speaker]: 「町の近くに、廃工場があるらしいんだ。そこに行きたくて」\\n[Speaker]: 「どうして、はいこうじょうに？」\\n[Speaker]: 「そこにね、探している部品があるかもしれないんだ」\\n[Speaker]: 「きのうみてた、おるごーるの？」\\n[Speaker]: 「うん、そうだよ。シオナのお兄さんのオルゴールを、どうしても直してあげたいんだ」\\n[Speaker]: 「シオナの……そう。みつかるといいね」\\n[Narration]: ティピィはボクに抱っこされたまま、迷うことなく地図の本が収められている本棚までいざなってくれた。\\n[Speaker]: 「もしかして、どこにどの本があるのか覚えてるの？」\\n[Speaker]: 「うん、だいたい」\\n[Speaker]: 「すごいな……誰かに教えてもらったの？」\\n[Speaker]: 「ううん。おとうさんとおかあさんをまってるあいだに、ひとりで」\\n[Narration]: おとうさんとおかあさんという言葉を出すと、ティピィは少し涙目になった。\\n[Speaker]: 「えっと……これかな」\\n[Narration]: 話を変えるために、ボクは地図本を一冊取り出した。\\n[Narration]: その場に座り込み、本を開けた。\\n[Narration]: オルゴールの本と同じように、その地図もまた手書きだった。\\n[Narration]: もしかしてこの図書館にある本はすべて、手書きなのだろうか？\\n[Narration]: だとしたら相当な量だ。\\n[Narration]: いったい誰が、こんな量の本を手書きしたのだろうか。\\n[Narration]: 果てしない時間を要するその作業に、気が遠くなってしまいそうだ。\\n[Speaker]: 「かなりボロボロだな……これってどのくらい前の本なの？」\\n[Speaker]: 「えっと……わかんない。ずっとずっと、ずーっとまえのほんだよ」\\n[Narration]: もう何十年も前の地図のように思えた。\\n[Narration]: 建物自体は今の町並みと同じようだけど……。\\n[Narration]: 紅茶をこぼしたようにひどく色あせたページ。\\n[Narration]: 中には貼り付いて、捲ると破れてしまいそうなものもあった。\\n[Narration]: 慎重にページを進めていく。\\n[Speaker]: 「あ、もしかしてこれかな？」\\n[Narration]: 町の北方に、工場の地図記号を見つけた。\\n[Narration]: シオナの家の方向からしても、おそらくこの場所である可能性が高い。\\n[Speaker]: 「レイ……いっちゃうの？\\u3000いかないで……」\\n[Narration]: ティピィはボクの首にしがみついてくる。\\n[Narration]: その小さな背中を、ボクは手で何度もなでた。\\n[Speaker]: 「大丈夫、また来るから」\\n[Speaker]: 「ほんとに？\\u3000ほんとにまたきてくれる？」\\n[Speaker]: 「うん、もちろん。約束するよ」\\n[Speaker]: 「ぜったいだよ？\\u3000ぜったいぜったいまたきてね」\\n[Speaker]: 「うん。絶対の絶対だ」\\n[Narration]: 何度も何度も、ボクはティピィと約束を交わす。\\n[Narration]: どうしてだろう。\\n[Narration]: それでも、その場を離れることに気が引けた。\\n[Narration]: ずっとティピィのそばにいてあげたいという気持ちが、ボクの中に沸いてきている。\\n[Narration]: その気持ちを隠して、ボクは図書館を後にした。\\n[Narration]: 地図を頼りにたどり着いた廃工場に入ると、酸化したオイルの臭いが鼻についた。\\n[Narration]: この工場も、元々フィロイドの腕や足を作っていたのだろう。\\n[Narration]: 辺りには、作りかけのフィロイドの腕や足のパーツが、至る所に転がっている。\\n[Narration]: すべて人工皮膚をかぶせられる前のもので、機械の部品が剥き出しだ。\\n[Narration]: よく見ると、ボクの右手と、同じ作りであることがわかる。\\n[Narration]: 作り物だと分かっていても、この光景は異様だった。\\n[Narration]: 転がっていた腕をどかすために、ボクは右手でそれを退ける。\\n[Narration]: 金属同士がぶつかる、もの悲しい音が工場内に響いた。\\n[Narration]: もし何かの弾みで身体のどこかが壊れてしまったらここに来よう。\\n[Narration]: ここならば、代替となるパーツが山のようにある。\\n[Narration]: 奥には酸化オイルの充満したドラム缶がいくつも転がっていた。\\n[Narration]: ほとんど酸化してしまっているが、中には未開封のオイルもあった。\\n[Narration]: もしオイルが切れてしまっても、ここで人目につかずメンテナンスを行うことができるだろう。\\n[Narration]: 工場内を進めば進むほどに、ボクが頭の隅で抱えていた悩みが解消されていく。\\n[Narration]: この廃工場は、ボクにとっては重要な場所になるはずだ。\\n[Narration]: でも、肝心なものが見つからない。\\n[Narration]: それはもちろんマッドさんがこの場所に捨てたという時計だ。\\n[Narration]: でも、この工場の中には、時計どころか、ゴミとおぼしきものは一切置いていない。\\n[Narration]: もしかして工場の中ではなく、ゴミは外に捨てられているのだろうか？\\n[Narration]: ボクは工場を一旦出て、その外周を回ることにした。\\n[Narration]: すると、工場の裏側に、機械部品がうず高く積まれた区域を見つけることができた。\\n[Narration]: 機械部品はもちろんだが、ゴミもたくさん捨てられている。\\n[Narration]: きっとこの町のゴミ捨て場はここになっているのだろう。\\n[Narration]: マッドさんの他にも、ここから使えそうなものを持って帰っている者もいるはずだ。\\n[Narration]: 身長の何倍もあるその山を見上げて、ボクはそんなことを思った。\\n[Speaker]: 「……さて、どこにあるんだろう」\\n[Narration]: ゴミはかなりの量だ。\\n[Narration]: 地道に探して見つけるには骨が折れる。\\n[Narration]: でも、それ以外に方法はない。\\n[Narration]: ボクは早速、足下から捜索を開始することにした。\\n[Narration]: どれだけ時間がかかったのかはわからない。\\n[Narration]: 時間の感覚はとっくになくなっていた。\\n[Narration]: 泥だらけの金属板や廃油まみれの容器を移動させていたので、ボクの手はドロドロに汚れてしまっている。\\n[Narration]: 服には油がべっとりと付着していたし、いつの間にかシミも大量についていた。\\n[Narration]: それからもボクはゴミの絨毯を渡り、汚物の川を泳ぎ、スクラップの滝に打たれた。\\n[Narration]: そして、ようやく発見した。\\n[Narration]: マッドさんの店にあった。\\n[Narration]: 昨日ボクが壊した。\\n[Narration]: あの時計を。\\n[Narration]: 手に取り、盤面にある針をジッと見つめてみる。\\n[Narration]: 当然、動いていない。\\n[Narration]: 本体に耳を当ててみたけれど、何の音も立てない。\\n[Narration]: ボクが壊してしまったのだから当然だ。\\n[Narration]: もう二度と、この時計が時を刻むことはないのだろう。\\n[Narration]: その事実が、胸の奥を小さく突いた。\\n[Narration]: そっとボクは時計を抱き締めて、帰路につくことにした。\\n[Narration]: シオナがボクを優しく出迎えてくれる。\\n[Speaker]: 「ただいま。あったよ」\\n[Narration]: 油に汚れた戦利品を差し出すと、シオナは柔和に笑った。\\n[Speaker]: 「本当だ、ありがとう。ほら、着替えて着替えて」\\n[Narration]: タオルと着替えをシオナは用意してくれていた。\\n[Narration]: 汚れをぬぐい、着替えを終わらせると、ボクはリビングへと向かっていく。\\n[Narration]: そこでもまたシオナが迎え入れてくれる。\\n[Speaker]: 「レイ、疲れてるでしょ？\\u3000ご飯食べて休んで」\\n[Speaker]: 「ううん、大丈夫。すぐに作業に移りたいんだ」\\n[Speaker]: 「大丈夫？\\u3000レイの身体が心配だよ」\\n[Speaker]: 「平気だよ。今は不思議と、疲れを感じていないんだ」\\n[Speaker]: 「でも、ご飯食べないと……」\\n[Speaker]: 「うん、分かってる。後で食べるから先に食べてて」\\n[Speaker]: 「……うん、分かった。がんばってね」\\n[Narration]: リビングからシオナは出て行く。\\n[Narration]: その背中を見送って、ボクは作業を開始した。\\n[Narration]: 図書館から借りてきた本を傍らに開く。\\n[Narration]: このオルゴールは、ハンドルを回すことで中にある、大小様々な大きさの歯車が複雑に絡み合い、一定の速度を保ってディスクが回るという仕組み。\\n[Narration]: 早く回せばその分だけ曲が早くなるというわけではないらしい。\\n[Narration]: それはとても凄い技術だと思った。\\n[Narration]: 本に記されている、組み立て方を逆から順に追って、オルゴールを分解していく。\\n[Narration]: そしてパーツの有無を順番に照らし合わせていくと、その途中の、動力を伝える部分の歯車が割れていることがわかった。\\n[Narration]: 精密な動きをするものこそ、たった一つの小さなパーツが駄目になるだけで、動かなくなってしまうのか。\\n[Narration]: ボクは思わず自分の右手を見てしまう。\\n[Narration]: とりあえず、この割れてしまっている歯車と同じ大きさの物を、時計から探し出そう。\\n[Narration]: ボクは続いて時計の分解を始めた。\\n[Narration]: 蓋を外し、ドライバーを使ってねじを外す。\\n[Narration]: カバーを外すと、中の構造が露わになった。\\n[Narration]: オルゴールよりもずっと精密な歯車が幾重にもかみ合っている。\\n[Narration]: その中の一つ、少し大きめの歯車の軸部分が折れていた。そのせいで部品が回らなくなっている。\\n[Narration]: ボクが昨日、壊してしまったのはこの場所なんだろう。\\n[Narration]: マッドさんがこの時計を捨てたと言うことは、この歯車と同じ大きさの物が無かったんだ。\\n[Narration]: 幸いだったのは、壊れた歯車がオルゴールに必要な大きさじゃなかったこと。\\n[Narration]: 物を分解するというのは、どこか気が引ける。\\n[Narration]: オルゴールを直すために、この時計を壊しているのだから。\\n[Narration]: それはボク自身がどんな存在であるかを、自分で理解しているからだろうか。\\n[Narration]: 躊躇いつつも、せめてもの手向けとして、ボクは時計を可能な限り丁寧に分解していった。\\n[Narration]: 時計の歯車を小さなものから順に、テーブルの上に並べていき、オルゴールの物と比べていく。\\n[Speaker]: 「……あった」\\n[Narration]: ほぼ同じだろうと思われる大きさの歯車を見つけることができた。\\n[Narration]: あとは、これを本に従って、オルゴールに移植していくだけだ。\\n[Speaker]: 「これで大丈夫だと思うんだけど……」\\n[Narration]: これで問題なく、ディスクが動くはずだ。\\n[Narration]: 蓋を戻し、ハンドルを回すと、手応えがあった。\\n[Narration]: だけど、それ以上ハンドルは回らない。\\n[Narration]: どうしてだろう。\\n[Narration]: ボクは本を読み直す。\\n[Narration]: パーツも、組み込む位置も問題ない。\\n[Narration]: 首をひねりながら、蓋を再び外した。\\n[Narration]: そして、そのままハンドルを回してみる。\\n[Narration]: 確かに歯車は、ぴったりとかみ合っていた。\\n[Narration]: だけど、しばらく使われていなかったせいで、油がすっかりと乾ききっているようだ。\\n[Narration]: ハンドルが回らない理由はそれなのだろう。\\n[Narration]: どうしよう。\\n[Narration]: シオナに行って、料理で使う油を借りてこようか？\\n[Narration]: ……いや、それも問題だ。\\n[Narration]: 料理で使う油と、歯車の潤滑油は種類が違うだろう。\\n[Narration]: 最初は動くかもしれないけど、故障の原因になるかもしれない。\\n[Narration]: だったら、どうすれば……。\\n[Narration]: ふとボクは、自分の右手を見た。\\n[Narration]: 手袋に覆われてはいるが、その下には剥き出しの機械部品がある。\\n[Narration]: ボクの手に使われているオイルを使うのはどうだろうか。\\n[Narration]: 手袋を外して、自分の右手をじっくりと見た。\\n[Narration]: 剥き出しになった機械部品。\\n[Narration]: その部品をなめらかに動かすために、オイルが内部に組み込まれている。\\n[Narration]: ボクは親指の付け根近くの掌に、ドライバーを差し込んだ。\\n[Narration]: 外装を外すと、その中には配線やシリンダー、シャフトといった機械の手を動かす為の機構がみっしりと詰まっていた。\\n[Narration]: その中のシリンダーの一つにオイルが入っている。\\n[Narration]: そしてそれは古くなったオイルを交換しやすいように着脱式になっていた。\\n[Narration]: ボクは左手でシリンダーを取り外すと、その中を満たしていたオイルを、オルゴールの歯車の上に垂らした。\\n[Narration]: なるべくすべての歯車に、馴染むように指先でオイルを伸ばしていく。\\n[Narration]: うまくいくだろうか？\\n[Narration]: シリンダーを右手の中に戻し、外装を止め直す。\\n[Narration]: 手袋で機械の腕を隠すと、そのままおそるおそるハンドルを回してみる。\\n[Narration]: 最初はぎこちなく。でも、ハンドルを回すにつれ潤滑に歯車が走る。\\n[Narration]: 全ての歯車の隙間に、オイルが巡りきったのだろう、ハンドルは何の引っかかりもなく回り続けた。\\n[Narration]: そして、あのメロディが流れ始める。\\n[Speaker]: 「レイ、その曲……！」\\n[Narration]: シオナが突然部屋に入ってきた。\\n[Speaker]: 「うん。直ったよ、シオナ」\\n[Speaker]: 「ありがとう……ありがとう、レイ。ありがとう……とってもとってもうれしい」\\n[Narration]: シオナはこれまでにない笑みを見せてくれた。\\n[Narration]: その笑みを見ているだけで、胸の奥がじんわりと温かくなる。\\n[Narration]: そして、ボクは気付いた。\\n[Narration]: ああ、これか。\\n[Narration]: これが、うれしいという感情か。\\n[Narration]: ボクは今、喜んでいる。\\n[Narration]: シオナの笑顔を見て、喜んでいる。\\n[Narration]: そして、はじめて役に立ったという実感を得ることができた。\\n[Speaker]: 「ありがとうレイ、ありがとう」\\n[Narration]: シオナはボクの手を取って何度もお礼を言った。\\n[Narration]: 近づく顔に、ボクは顔が熱くなるのを覚える。\\n[Speaker]: 「レイのがんばりのおかげで、オルゴールが直ったんだよ。私が諦めていた、またあの曲を聴くことができるの。お兄ちゃんが作った、オレンジ色のこの曲を。私の大好きな、この曲を……」\\n[Speaker]: 「ねぇシオナ、歌ってよ。聞かせてよ、お兄さんの曲を」\\n[Speaker]: 「ええ……もちろん！」\\n[Narration]: ボクはオルゴールのハンドルを回す。\\n[Narration]: シオナは胸の前で手を組み、メロディに合わせて歌い始めた。\\n[Narration]: 出会ったとき、歌っていた歌。\\n[Narration]: シオナのお兄さんが作った歌。\\n[Narration]: オレンジ色の歌。\\n[Narration]: 今ならその意味が分かる気がした。\\n[Narration]: ボクの胸に宿る感情は、喜びだ。\\n[Narration]: シオナの歌。\\n[Narration]: そしてうれしそうに歌うシオナ。\\n[Narration]: ボクはその姿を見ているだけで、喜びが溢れてきた。\\n[Narration]: いつも以上に、シオナはうれしそうにその曲を歌っていた。\\n[Narration]: その日は、眠りにつくまでシオナはずっと歌っていた。\\n[Narration]: ボクもその歌声と音色に聞き入っていた。\\n[Narration]: 何度も何度も、シオナは曲を流すようにボクにお願いした。\\n[Narration]: 腕がもう動かなくなるほど、シオナはずっと歌い続けていた。\\n[Narration]: その表情に、ボクは思う。\\n[Narration]: ボクはずっと、こうしてシオナと一緒にいたい。\\n[Narration]: シオナがそう願ってくれれば、ボクはずっと一緒にいることができる。\\n[Narration]: だけどそのためには、決してボクの正体がばれてはいけない。\\n[Narration]: 決して、絶対に……。\\n[Narration]: ボクはその日、シオナとずっと一緒にいるための決意を固めた。\\n[Narration]: 夜、暗くなった部屋。\\n[Narration]: 二つ並んだベッドの上で、シオナはボクに話しかけてくる。\\n[Speaker]: 「私のお願い、聞いてくれる？」\\n[Speaker]: 「あのね、私はこの曲を、色んな人に聴いてもらいたいの。そして、笑顔にしたいの。お兄ちゃんが作ったこの曲で、色んな人を幸せにしてあげたいの」\\n[Narration]: 言葉だけは知っている。\\n[Narration]: だけど、ボクにはそれが何なのか分からなかった。\\n[Narration]: それは状態なんだろうか。\\n[Narration]: それとも、感情なんだろうか。\\n[Narration]: 幸せという言葉を、何度も頭の中で反芻する。\\n[Speaker]: 「それでね、手伝って欲しいの」\\n[Speaker]: 「手伝う？\\u3000どうすればいいの？」\\n[Speaker]: 「明日ね、広場に一緒に行って欲しい。そして、オルゴールを回して欲しい」\\n[Speaker]: 「それで、シオナが歌うんだね」\\n[Speaker]: 「ええ、そう。そして、一人でも多くの人に聞いて欲しい。お兄ちゃんが作った、あのオレンジ色の曲を……」\\n[Speaker]: 「うん、ボクもそうしたい。もちろん手伝うよ」\\n[Narration]: シーツがこすれる音がした。\\n[Speaker]: 「どうしたの、シオナ」\\n[Speaker]: 「ねぇ、レイ……手、つないでもいい？」\\n[Narration]: 暗闇でシオナの表情は見えない。\\n[Narration]: だけどシオナの顔が赤くなっている気がした。\\n[Speaker]: 「手？\\u3000ボクと？」\\n[Speaker]: 「うん、レイとつなぎたい……ダメ……？」\\n[Narration]: ボクは知識の中に検索をかける。\\n[Narration]: 手をつなぐという行為は知ってる。\\n[Narration]: だけどそれが、年頃の男女ならどんな意味があるのか……。\\n[Speaker]: 「ううん、いいよ……」\\n[Narration]: ニンゲンに……シオナに求められるのならば、それに応えたい。\\n[Narration]: 幸いにも、彼女が居るのはボクの左側。\\n[Narration]: 人工皮膚で覆われた方の手なら、問題ないと思う。\\n[Narration]: 手を隣のベッドへ伸ばす。\\n[Narration]: 冷えた部屋の中で、伸ばした手は少し肌寒かった。\\n[Narration]: 宙でシオナの手を探す。\\n[Narration]: 触れる、温もり。\\n[Narration]: シオナの手が、ボクの手に重なった。\\n[Speaker]: 「温かいね、レイ」\\n[Speaker]: 「うん……温かいよ、シオナ」\\n[Narration]: ボクたちは手をつないだ。\\n[Narration]: どちらからとなく、指を絡めていく。\\n[Narration]: 手から発される温もりだけではない、温かさが広がっていった。\\n[Narration]: これがボクの作り物の温かさとは違う、ニンゲンの温もりなんだろうか……。\\n[Speaker]: 「レイ……もっと強く」\\n[Speaker]: 「……こう……？」\\n[Speaker]: 「ごめん、痛かった？」\\n[Speaker]: 「ううん……思った以上に強かっただけ」\\n[Speaker]: 「この強さで大丈夫？」\\n[Speaker]: 「うん……ありがとう、レイ」\\n[Narration]: ボクたちは一晩中、手をつないでいた。\\n[Narration]: 朝がボクたちを目覚めさせるまでずっと、その手はつながれたままだった。\\n[Narration]: 翌日、広場には音が溢れていた。\\n[Narration]: ボクとシオナの二人が奏で始めたメロディ。\\n[Narration]: シオナが歌い。\\n[Narration]: ボクはシオナのお兄さんのオルゴールを回している。\\n[Narration]: はじめ、人通りは皆無だった。\\n[Narration]: だけどシオナの歌声に引き寄せられるように、その数は増えていった。\\n[Narration]: 一人、二人と足を止めて、すぐに小さな輪ができあがっていく。\\n[Narration]: その輪はすぐに大きくなっていき、閑散としていた広場は、あっという間に大きな賑わいを見せるようになった。\\n[Narration]: その場に居る誰もが、シオナの歌声に聞き入っている。\\n[Narration]: 若い夫婦は、身体を寄せてそれぞれの手を握りあっていた。\\n[Narration]: 老人は感慨深げに目を閉じて。\\n[Narration]: 青年は、少し離れた女性を見つめ。\\n[Narration]: 若い親子は楽しげに笑いあい。\\n[Narration]: 子どもたちは、歌に合わせて身体を動かしていた。\\n[Narration]: それぞれが、それぞれの想いでシオナの歌を聴いている。\\n[Narration]: だけど一つだけ共通していることがあった。\\n[Narration]: それはみんなが『笑顔』であるということだ。\\n[Narration]: シオナの歌を聴いて、全員が笑みをこぼしていた。\\n[Narration]: 今、自分が、この場にいる人たちを笑顔にしていることに協力していると感じることで、ボクは胸の奥に温かさを感じた。\\n[Narration]: これが嬉しいという感情なんだ。\\n[Narration]: 昨日、シオナの笑顔を見て感じた感情。\\n[Narration]: これこそが、そうだったんだ。\\n[Narration]: ボクは嬉しい。\\n[Narration]: ボクは、自分の頬が少し上がるのを感じた。\\n[Narration]: きっと、ボクも笑顔を浮かべているんだ。\\n[Narration]: それはもしかしたら、少し不器用な見た目かもしれない。\\n[Narration]: でも、それで構わない。\\n[Narration]: 少しでもシオナに近づけたのなら、ボクはそれだけで満足だ。\\n[Narration]: 直したばかりのオルゴールは、つつがなくメロディを流し続けていた。\\n[Narration]: 回すハンドルの調子もいい。\\n[Narration]: ディスクから流れる音は、木箱の中で反響して増幅されて澄んだ音色となって外へ出て行く。\\n[Narration]: シオナ曰く、オレンジ色のメロディ。\\n[Narration]: そのメロディに合わせて、シオナが歌う。'"
      ]
     },
     "execution_count": 83,
     "metadata": {},
     "output_type": "execute_result"
    }
   ],
   "source": [
    "llm_tag_speakers(full_text, output)"
   ]
  }
 ],
 "metadata": {
  "kernelspec": {
   "display_name": "Python 3",
   "language": "python",
   "name": "python3"
  },
  "language_info": {
   "codemirror_mode": {
    "name": "ipython",
    "version": 3
   },
   "file_extension": ".py",
   "mimetype": "text/x-python",
   "name": "python",
   "nbconvert_exporter": "python",
   "pygments_lexer": "ipython3",
   "version": "3.10.11"
  }
 },
 "nbformat": 4,
 "nbformat_minor": 5
}
